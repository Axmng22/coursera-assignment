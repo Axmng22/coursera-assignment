{
 "cells": [
  {
   "cell_type": "markdown",
   "id": "a4ead413",
   "metadata": {},
   "source": [
    "# Data Science Tools and Ecosystem"
   ]
  },
  {
   "cell_type": "markdown",
   "id": "6608d016",
   "metadata": {},
   "source": [
    "In this notebook, Data Science Tools and Ecosystem are summarized."
   ]
  },
  {
   "cell_type": "markdown",
   "id": "561dba8c",
   "metadata": {},
   "source": [
    "Some of the popular languages that Data Scientists use are:"
   ]
  },
  {
   "cell_type": "markdown",
   "id": "02bd72e9",
   "metadata": {},
   "source": [
    "1) python\n",
    "2) R programming\n",
    "3) SQL"
   ]
  },
  {
   "cell_type": "markdown",
   "id": "0f708caa",
   "metadata": {},
   "source": [
    "Some of the commonly used libraries used by Data Scientists include:"
   ]
  },
  {
   "cell_type": "markdown",
   "id": "577d0f55",
   "metadata": {},
   "source": [
    "1. pandas\n",
    "1. numpy\n",
    "1. matplotlib\n",
    "1. scikit-learn"
   ]
  },
  {
   "cell_type": "markdown",
   "id": "d07c7d2e",
   "metadata": {},
   "source": [
    "# Table"
   ]
  },
  {
   "cell_type": "markdown",
   "id": "ab45f7ad",
   "metadata": {},
   "source": [
    "|Data Science Tools|\n",
    "|----|\n",
    "|RStudioApache|\n",
    "|TensorFlow|\n",
    "|Spark|"
   ]
  },
  {
   "cell_type": "markdown",
   "id": "71c5d5b7",
   "metadata": {},
   "source": [
    "### Below are a few examples of evaluating arithmetic expressions in Python"
   ]
  },
  {
   "cell_type": "code",
   "execution_count": 4,
   "id": "a678e556",
   "metadata": {},
   "outputs": [
    {
     "name": "stdout",
     "output_type": "stream",
     "text": [
      "17\n"
     ]
    }
   ],
   "source": [
    "print((3*4)+5)\n",
    "#This a simple arithmetic expression to mutiply then add integers."
   ]
  },
  {
   "cell_type": "code",
   "execution_count": 5,
   "id": "6a541609",
   "metadata": {},
   "outputs": [
    {
     "name": "stdout",
     "output_type": "stream",
     "text": [
      "20\n"
     ]
    }
   ],
   "source": [
    "# This will convert 200 minutes to hours by diving by 60\n",
    "print(200%60)"
   ]
  },
  {
   "cell_type": "code",
   "execution_count": 7,
   "id": "ec141619",
   "metadata": {},
   "outputs": [
    {
     "name": "stdout",
     "output_type": "stream",
     "text": [
      "3:20\n"
     ]
    }
   ],
   "source": [
    "# This will convert 200 minutes to hours by diving by 60\n",
    "total_minutes = 200\n",
    "hours = total_minutes // 60\n",
    "minutes = total_minutes % 60\n",
    "print(f\"{hours}:{minutes}\")"
   ]
  },
  {
   "cell_type": "markdown",
   "id": "f508f439",
   "metadata": {},
   "source": [
    "## Objectives:"
   ]
  },
  {
   "cell_type": "markdown",
   "id": "1fc4d41c",
   "metadata": {},
   "source": [
    "* list popular languages for Data Science.\n",
    "* list the popular libraries used for Data Science\n",
    "* list the open source tools\n",
    "* understand how to use markdown in jupyter notebooks\n",
    "* how to create basic python code"
   ]
  },
  {
   "cell_type": "markdown",
   "id": "cdd126b4",
   "metadata": {},
   "source": [
    "## Author:\n",
    "  ~ Aman Gupta  "
   ]
  },
  {
   "cell_type": "code",
   "execution_count": null,
   "id": "2ffb8ca5",
   "metadata": {},
   "outputs": [],
   "source": []
  }
 ],
 "metadata": {
  "kernelspec": {
   "display_name": "Python 3 (ipykernel)",
   "language": "python",
   "name": "python3"
  },
  "language_info": {
   "codemirror_mode": {
    "name": "ipython",
    "version": 3
   },
   "file_extension": ".py",
   "mimetype": "text/x-python",
   "name": "python",
   "nbconvert_exporter": "python",
   "pygments_lexer": "ipython3",
   "version": "3.10.10"
  }
 },
 "nbformat": 4,
 "nbformat_minor": 5
}
